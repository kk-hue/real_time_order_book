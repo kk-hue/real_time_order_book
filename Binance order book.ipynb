{
 "cells": [
  {
   "cell_type": "code",
   "execution_count": 13,
   "id": "611e4db1",
   "metadata": {},
   "outputs": [],
   "source": [
    "import asyncio\n",
    "import websockets\n",
    "import json\n",
    "import requests\n",
    "import ssl\n",
    "import certifi\n",
    "import threading"
   ]
  },
  {
   "cell_type": "markdown",
   "id": "40ce43c6",
   "metadata": {},
   "source": [
    "First, we implement a function to get the initial order book (limit first 1000 records)snapshot from the REST API. It returns a json file with 3 keys: 'lastUpdateId', 'bids' and 'asks'."
   ]
  },
  {
   "cell_type": "code",
   "execution_count": 14,
   "id": "688cc513",
   "metadata": {},
   "outputs": [],
   "source": [
    "def get_order_book_snapshot(symbol):\n",
    "    url = f\"https://api.binance.com/api/v3/depth\"\n",
    "    params = {\"symbol\": symbol, \"limit\": 1000}\n",
    "    response = requests.get(url, params=params)\n",
    "    if response.status_code == 200:\n",
    "        return response.json()\n",
    "    else:\n",
    "        print(\"Failed to retrieve initial order book snapshot.\")\n",
    "        return None"
   ]
  },
  {
   "cell_type": "code",
   "execution_count": 15,
   "id": "88315667",
   "metadata": {},
   "outputs": [],
   "source": [
    "order_book = get_order_book_snapshot('BTCUSDT')"
   ]
  },
  {
   "cell_type": "code",
   "execution_count": 16,
   "id": "d62155a4",
   "metadata": {},
   "outputs": [
    {
     "data": {
      "text/plain": [
       "dict_keys(['lastUpdateId', 'bids', 'asks'])"
      ]
     },
     "execution_count": 16,
     "metadata": {},
     "output_type": "execute_result"
    }
   ],
   "source": [
    "order_book.keys()"
   ]
  },
  {
   "cell_type": "code",
   "execution_count": 17,
   "id": "8613d51f",
   "metadata": {},
   "outputs": [
    {
     "name": "stdout",
     "output_type": "stream",
     "text": [
      "['71273.44000000', '4.38861000']\n",
      "['71273.45000000', '0.00432000']\n"
     ]
    }
   ],
   "source": [
    "# two subelement in every bid or ask element, first is price and second is quantity.\n",
    "print(order_book['bids'][0])\n",
    "print(order_book['asks'][0])"
   ]
  },
  {
   "cell_type": "markdown",
   "id": "69737dfc",
   "metadata": {},
   "source": [
    "Next, we implement a function to update the local order book based on incoming events"
   ]
  },
  {
   "cell_type": "code",
   "execution_count": 18,
   "id": "a9632912",
   "metadata": {},
   "outputs": [],
   "source": [
    "def update_order_book(order_book, bids, asks):\n",
    "    for price, quantity in bids:\n",
    "        if quantity == '0.00000000':\n",
    "            order_book['bids'] = [b for b in order_book['bids'] if b[0] != price]\n",
    "        else:\n",
    "            order_book['bids'] = [b for b in order_book['bids'] if b[0] != price]\n",
    "            order_book['bids'].append([price, quantity])\n",
    "\n",
    "    for price, quantity in asks:\n",
    "        if quantity == '0.00000000':\n",
    "            order_book['asks'] = [a for a in order_book['asks'] if a[0] != price]\n",
    "        else:\n",
    "            order_book['asks'] = [a for a in order_book['asks'] if a[0] != price]\n",
    "            order_book['asks'].append([price, quantity])\n",
    "\n",
    "    order_book['bids'] = sorted(order_book['bids'], key=lambda x: float(x[0]), reverse=True)[:5]\n",
    "    order_book['asks'] = sorted(order_book['asks'], key=lambda x: float(x[0]))[:5]"
   ]
  },
  {
   "cell_type": "markdown",
   "id": "809204fe",
   "metadata": {},
   "source": [
    "Then we implement a function to display the order book."
   ]
  },
  {
   "cell_type": "code",
   "execution_count": 19,
   "id": "bb677702",
   "metadata": {},
   "outputs": [],
   "source": [
    "def display_order_book(order_book):\n",
    "    print(\"\\nOrder Book:\")\n",
    "    print(\"Bids:\")\n",
    "    for bid in order_book['bids']:\n",
    "        print(f\"Price: {bid[0]}, Quantity: {bid[1]}\")\n",
    "    \n",
    "    print(\"\\nAsks:\")\n",
    "    for ask in order_book['asks']:\n",
    "        print(f\"Price: {ask[0]}, Quantity: {ask[1]}\")"
   ]
  },
  {
   "cell_type": "markdown",
   "id": "e6093ff6",
   "metadata": {},
   "source": [
    "Followed by the main function to handle WebSocket connection and order book updates"
   ]
  },
  {
   "cell_type": "code",
   "execution_count": 22,
   "id": "ec99b179",
   "metadata": {},
   "outputs": [
    {
     "name": "stdout",
     "output_type": "stream",
     "text": [
      "Enter the Binance symbol: BTCUSDT\n",
      "Connected to Binance WebSocket.\n",
      "Out of order event detected.\n",
      "Enter the Binance symbol: BTCUSDT\n",
      "Connected to Binance WebSocket.\n",
      "\n",
      "Order Book:\n",
      "Bids:\n",
      "Price: 71269.99000000, Quantity: 3.16245000\n",
      "Price: 71269.98000000, Quantity: 0.00010000\n",
      "Price: 71269.97000000, Quantity: 0.00018000\n",
      "Price: 71269.96000000, Quantity: 0.06923000\n",
      "Price: 71269.95000000, Quantity: 0.30291000\n",
      "\n",
      "Asks:\n",
      "Price: 71270.00000000, Quantity: 2.17837000\n",
      "Price: 71270.02000000, Quantity: 0.01299000\n",
      "Price: 71270.03000000, Quantity: 0.00010000\n",
      "Price: 71270.04000000, Quantity: 0.00010000\n",
      "Price: 71270.06000000, Quantity: 0.00010000\n",
      "\n",
      "Order Book:\n",
      "Bids:\n",
      "Price: 71269.99000000, Quantity: 2.23564000\n",
      "Price: 71269.98000000, Quantity: 0.00010000\n",
      "Price: 71269.97000000, Quantity: 0.00018000\n",
      "Price: 71269.96000000, Quantity: 0.06923000\n",
      "Price: 71269.95000000, Quantity: 0.30334000\n",
      "\n",
      "Asks:\n",
      "Price: 71270.00000000, Quantity: 1.99305000\n",
      "Price: 71270.02000000, Quantity: 0.01299000\n",
      "Price: 71270.03000000, Quantity: 0.00010000\n",
      "Price: 71270.04000000, Quantity: 0.00010000\n",
      "Price: 71270.06000000, Quantity: 0.00010000\n",
      "\n",
      "Order Book:\n",
      "Bids:\n",
      "Price: 71269.99000000, Quantity: 2.18106000\n",
      "Price: 71269.98000000, Quantity: 0.00010000\n",
      "Price: 71269.97000000, Quantity: 0.00018000\n",
      "Price: 71269.96000000, Quantity: 0.06923000\n",
      "Price: 71269.95000000, Quantity: 0.30334000\n",
      "\n",
      "Asks:\n",
      "Price: 71270.00000000, Quantity: 1.78133000\n",
      "Price: 71270.02000000, Quantity: 0.01299000\n",
      "Price: 71270.03000000, Quantity: 0.00010000\n",
      "Price: 71270.04000000, Quantity: 0.00010000\n",
      "Price: 71270.06000000, Quantity: 0.00010000\n",
      "Process interrupted by user!\n"
     ]
    }
   ],
   "source": [
    "async def track_order_book(symbol):\n",
    "    ws_url = f\"wss://stream.binance.com:9443/ws/{symbol.lower()}@depth\"\n",
    "    \n",
    "    # Get the initial snapshot and lastUpdateId\n",
    "    order_book = get_order_book_snapshot(symbol)\n",
    "    if order_book is None:\n",
    "        return\n",
    "\n",
    "    last_update_id = order_book['lastUpdateId']\n",
    "    # display_order_book(order_book)\n",
    "\n",
    "    # SSL context using certifi for certificate validation\n",
    "    ssl_context = ssl.SSLContext(ssl.PROTOCOL_TLS_CLIENT)\n",
    "    ssl_context.load_verify_locations(certifi.where())\n",
    "\n",
    "    async with websockets.connect(ws_url, ssl=ssl_context) as websocket:\n",
    "        print(\"Connected to Binance WebSocket.\")\n",
    "\n",
    "        buffer = []\n",
    "        while True:\n",
    "            try:\n",
    "                message = await websocket.recv()\n",
    "                data = json.loads(message)\n",
    "                # print(data)\n",
    "                buffer.append(data)\n",
    "            \n",
    "                if data['u'] > last_update_id: \n",
    "                    break\n",
    "\n",
    "            except Exception as e:\n",
    "                print(f\"Error while receiving message: {e}\")\n",
    "                break\n",
    "        # print(buffer[0].keys())\n",
    "        \n",
    "        # Process buffered events\n",
    "        for event in buffer:\n",
    "            if event['u'] <= last_update_id: # Drop any event where u is <= lastUpdateId in the snapshot\n",
    "                continue\n",
    "            # The first processed event should have U <= lastUpdateId+1 AND u >= lastUpdateId+1\n",
    "            if event['U'] <= last_update_id + 1 and event['u'] >= last_update_id + 1:\n",
    "                update_order_book(order_book, event['b'], event['a'])\n",
    "                last_update_id = event['u']\n",
    "                display_order_book(order_book)\n",
    "\n",
    "        while True:\n",
    "            try:\n",
    "                message = await websocket.recv()\n",
    "                data = json.loads(message)\n",
    "  \n",
    "                if data['U'] == last_update_id + 1: # each new event's U should be equal to the previous event's u+1.\n",
    "                    update_order_book(order_book, data['b'], data['a'])\n",
    "                    last_update_id = data['u']\n",
    "                    display_order_book(order_book)\n",
    "                else:\n",
    "                    print(\"Out of order event detected.\")\n",
    "                    break\n",
    "\n",
    "            except Exception as e:\n",
    "                print(f\"Error while receiving message: {e}\")\n",
    "                break\n",
    "    \n",
    "if __name__ == \"__main__\":\n",
    "    try:\n",
    "        while True:\n",
    "            symbol = input(\"Enter the Binance symbol: \").upper() # BTCUSDT\n",
    "            await track_order_book(symbol)\n",
    "    except asyncio.CancelledError:\n",
    "        print(\"Process interrupted by user!\")"
   ]
  },
  {
   "cell_type": "markdown",
   "id": "08aeb61b",
   "metadata": {},
   "source": [
    "Please note that this the cell can be interrupt with cancel button in the jupyter notebook instead of Ctrl+C, I did not managed to implement this interrupt function and I think I should note spend too much time on this because it is not the main focus of this task."
   ]
  },
  {
   "cell_type": "code",
   "execution_count": 23,
   "id": "3f47d698",
   "metadata": {},
   "outputs": [
    {
     "data": {
      "text/plain": [
       "{'e': 'depthUpdate',\n",
       " 'E': 1730183523014,\n",
       " 's': 'BTCUSDT',\n",
       " 'U': 53552400692,\n",
       " 'u': 53552400785,\n",
       " 'b': [['71112.00000000', '1.79678000'],\n",
       "  ['71111.96000000', '0.00010000'],\n",
       "  ['71111.17000000', '0.19518000'],\n",
       "  ['71110.55000000', '0.28286000'],\n",
       "  ['71110.30000000', '0.03034000'],\n",
       "  ['71109.34000000', '0.00000000'],\n",
       "  ['71101.77000000', '0.00000000'],\n",
       "  ['71099.64000000', '0.15669000'],\n",
       "  ['71099.56000000', '0.00000000'],\n",
       "  ['71084.12000000', '0.00000000'],\n",
       "  ['71083.90000000', '0.00000000'],\n",
       "  ['71083.86000000', '0.00000000'],\n",
       "  ['71083.80000000', '0.00675000'],\n",
       "  ['71083.59000000', '0.00000000'],\n",
       "  ['71081.42000000', '0.00134000'],\n",
       "  ['71046.49000000', '0.00740000'],\n",
       "  ['71024.14000000', '0.00000000'],\n",
       "  ['71012.00000000', '0.13316000'],\n",
       "  ['71000.60000000', '0.00000000'],\n",
       "  ['64000.00000000', '87.15291000'],\n",
       "  ['60000.00000000', '177.04054000'],\n",
       "  ['33000.00000000', '5.98283000']],\n",
       " 'a': [['71112.01000000', '3.62047000'],\n",
       "  ['71112.05000000', '0.00032000'],\n",
       "  ['71112.09000000', '0.52273000'],\n",
       "  ['71112.76000000', '0.00000000'],\n",
       "  ['71120.00000000', '0.26303000'],\n",
       "  ['71120.90000000', '0.00000000'],\n",
       "  ['71124.82000000', '0.00000000'],\n",
       "  ['71126.84000000', '0.70360000'],\n",
       "  ['71143.51000000', '0.04005000'],\n",
       "  ['71143.64000000', '0.00000000'],\n",
       "  ['71143.85000000', '0.00000000'],\n",
       "  ['71143.98000000', '0.00000000'],\n",
       "  ['71146.36000000', '0.01125000'],\n",
       "  ['71147.26000000', '0.00000000'],\n",
       "  ['71177.12000000', '0.00010000'],\n",
       "  ['71182.70000000', '0.00000000'],\n",
       "  ['71212.00000000', '0.02720000'],\n",
       "  ['71216.67000000', '0.49598000'],\n",
       "  ['71219.33000000', '0.00000000'],\n",
       "  ['72468.78000000', '0.06903000'],\n",
       "  ['72613.58000000', '0.06903000'],\n",
       "  ['75000.00000000', '253.82226300']]}"
      ]
     },
     "execution_count": 23,
     "metadata": {},
     "output_type": "execute_result"
    }
   ],
   "source": [
    "# Format of a data element in buffer list:\n",
    "{'e': 'depthUpdate', \n",
    " 'E': 1730183523014, \n",
    " 's': 'BTCUSDT', \n",
    " 'U': 53552400692, \n",
    " 'u': 53552400785, \n",
    " 'b': [['71112.00000000', '1.79678000'], ['71111.96000000', '0.00010000'], ['71111.17000000', '0.19518000'], \n",
    "       ['71110.55000000', '0.28286000'], ['71110.30000000', '0.03034000'], ['71109.34000000', '0.00000000'], \n",
    "       ['71101.77000000', '0.00000000'], ['71099.64000000', '0.15669000'], ['71099.56000000', '0.00000000'], \n",
    "       ['71084.12000000', '0.00000000'], ['71083.90000000', '0.00000000'], ['71083.86000000', '0.00000000'], \n",
    "       ['71083.80000000', '0.00675000'], ['71083.59000000', '0.00000000'], ['71081.42000000', '0.00134000'], \n",
    "       ['71046.49000000', '0.00740000'], ['71024.14000000', '0.00000000'], ['71012.00000000', '0.13316000'], \n",
    "       ['71000.60000000', '0.00000000'], ['64000.00000000', '87.15291000'], ['60000.00000000', '177.04054000'], \n",
    "       ['33000.00000000', '5.98283000']], \n",
    " 'a': [['71112.01000000', '3.62047000'], ['71112.05000000', '0.00032000'],['71112.09000000', '0.52273000'], \n",
    "       ['71112.76000000', '0.00000000'], ['71120.00000000', '0.26303000'], ['71120.90000000', '0.00000000'], \n",
    "       ['71124.82000000', '0.00000000'], ['71126.84000000', '0.70360000'], ['71143.51000000', '0.04005000'], \n",
    "       ['71143.64000000', '0.00000000'], ['71143.85000000', '0.00000000'], ['71143.98000000', '0.00000000'], \n",
    "       ['71146.36000000', '0.01125000'], ['71147.26000000', '0.00000000'], ['71177.12000000', '0.00010000'], \n",
    "       ['71182.70000000', '0.00000000'], ['71212.00000000', '0.02720000'], ['71216.67000000', '0.49598000'], \n",
    "       ['71219.33000000', '0.00000000'], ['72468.78000000', '0.06903000'], ['72613.58000000', '0.06903000'], \n",
    "       ['75000.00000000', '253.82226300']]}"
   ]
  },
  {
   "cell_type": "code",
   "execution_count": null,
   "id": "9a3f949a",
   "metadata": {},
   "outputs": [],
   "source": []
  }
 ],
 "metadata": {
  "kernelspec": {
   "display_name": "Python 3 (ipykernel)",
   "language": "python",
   "name": "python3"
  },
  "language_info": {
   "codemirror_mode": {
    "name": "ipython",
    "version": 3
   },
   "file_extension": ".py",
   "mimetype": "text/x-python",
   "name": "python",
   "nbconvert_exporter": "python",
   "pygments_lexer": "ipython3",
   "version": "3.9.7"
  }
 },
 "nbformat": 4,
 "nbformat_minor": 5
}
